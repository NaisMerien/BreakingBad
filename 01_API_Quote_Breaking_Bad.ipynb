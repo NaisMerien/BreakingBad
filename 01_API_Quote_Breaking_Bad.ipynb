{
 "cells": [
  {
   "cell_type": "code",
   "execution_count": 4,
   "id": "5047d67b",
   "metadata": {},
   "outputs": [
    {
     "data": {
      "text/plain": [
       "[{'quote': 'Buzz buzz buzz', 'author': 'The fly'},\n",
       " {'quote': \"Do you know how much I make a year? I mean, even if I told you, you wouldn't believe it.\",\n",
       "  'author': 'Walter White'},\n",
       " {'quote': 'Clearly, his taste in women is the same as his taste in lawyers.',\n",
       "  'author': 'Saul Goodman'},\n",
       " {'quote': \"Keys, scumbag. It's the universal symbol for keys.\",\n",
       "  'author': 'Mike Ehrmantraut'},\n",
       " {'quote': 'Everyone sounds like Meryl Streep with a gun to their head.',\n",
       "  'author': 'Mike Ehrmantraut'}]"
      ]
     },
     "execution_count": 4,
     "metadata": {},
     "output_type": "execute_result"
    }
   ],
   "source": [
    "import requests\n",
    "response = requests.get(\"https://breaking-bad-quotes.herokuapp.com/v1/quotes/5\")\n",
    "response.json()"
   ]
  },
  {
   "cell_type": "code",
   "execution_count": 7,
   "id": "91e31f48",
   "metadata": {},
   "outputs": [
    {
     "data": {
      "text/plain": [
       "[{'quote': 'Shit!', 'author': 'Walter White'},\n",
       " {'quote': \"You are not the guy. You're not capable of being the guy. I had a guy but now I don't. You are not the guy.\",\n",
       "  'author': 'Mike Ehrmantraut'},\n",
       " {'quote': \"When you have children, you always have family. They will always be your priority, your responsibility. And a man, a man provides. And he does it even when he's not appreciated or respected or even loved. He simply bears up and he does it. Because he's a man.\",\n",
       "  'author': 'Gustavo Fring'}]"
      ]
     },
     "execution_count": 7,
     "metadata": {},
     "output_type": "execute_result"
    }
   ],
   "source": [
    "def breaking_bad(number):\n",
    "    GET = \"https://api.breakingbadquotes.xyz\"\n",
    "    response = requests.get(f\"{GET}/v1/quotes/{number}\")\n",
    "    return response.json(), response.text, response.content\n",
    "a,b,c= breaking_bad(3)\n",
    "a"
   ]
  }
 ],
 "metadata": {
  "kernelspec": {
   "display_name": "Python 3 (ipykernel)",
   "language": "python",
   "name": "python3"
  },
  "language_info": {
   "codemirror_mode": {
    "name": "ipython",
    "version": 3
   },
   "file_extension": ".py",
   "mimetype": "text/x-python",
   "name": "python",
   "nbconvert_exporter": "python",
   "pygments_lexer": "ipython3",
   "version": "3.8.12"
  },
  "toc": {
   "base_numbering": 1,
   "nav_menu": {},
   "number_sections": true,
   "sideBar": true,
   "skip_h1_title": false,
   "title_cell": "Table of Contents",
   "title_sidebar": "Contents",
   "toc_cell": false,
   "toc_position": {},
   "toc_section_display": true,
   "toc_window_display": false
  }
 },
 "nbformat": 4,
 "nbformat_minor": 5
}
